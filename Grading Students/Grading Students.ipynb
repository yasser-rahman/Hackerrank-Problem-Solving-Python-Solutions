#!/bin/python3

import math
import os
import random
import re
import sys

#
# Complete the 'gradingStudents' function below.
#
# The function is expected to return an INTEGER_ARRAY.
# The function accepts INTEGER_ARRAY grades as parameter.
#

def gradingStudents(grades):
    # Write your code here
    def nearst_five_multiple(num):
        if num % 5 == 0:
            return num
        else:
            nearst = num - (num % 5) + 5
            return nearst
        
    
    def rounding(num):
        if nearst_five_multiple(num) - num < 3:
            return nearst_five_multiple(num)
        else:
            return num   
    
    
    grades_after_rounding = [rounding(grade) if grade >= 38 else grade for grade in grades]
    return grades_after_rounding
   
    

    

if __name__ == '__main__':
    fptr = open(os.environ['OUTPUT_PATH'], 'w')

    grades_count = int(input().strip())

    grades = []

    for _ in range(grades_count):
        grades_item = int(input().strip())
        grades.append(grades_item)

    result = gradingStudents(grades)

    fptr.write('\n'.join(map(str, result)))
    fptr.write('\n')

    fptr.close()
